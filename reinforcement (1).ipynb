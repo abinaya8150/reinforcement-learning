{
  "nbformat": 4,
  "nbformat_minor": 0,
  "metadata": {
    "colab": {
      "provenance": []
    },
    "kernelspec": {
      "name": "python3",
      "display_name": "Python 3"
    },
    "language_info": {
      "name": "python"
    }
  },
  "cells": [
    {
      "cell_type": "code",
      "execution_count": null,
      "metadata": {
        "id": "2_UJtPo5PdGs"
      },
      "outputs": [],
      "source": []
    },
    {
      "cell_type": "markdown",
      "source": [
        "importing libraries"
      ],
      "metadata": {
        "id": "fmYrNH3RP3jx"
      }
    },
    {
      "cell_type": "code",
      "source": [
        "pip install gym"
      ],
      "metadata": {
        "colab": {
          "base_uri": "https://localhost:8080/"
        },
        "id": "-6Px7pLQP7vO",
        "outputId": "32e350ad-9e18-48ab-ddaa-c523326ccd18"
      },
      "execution_count": null,
      "outputs": [
        {
          "output_type": "stream",
          "name": "stdout",
          "text": [
            "Requirement already satisfied: gym in /usr/local/lib/python3.10/dist-packages (0.25.2)\n",
            "Requirement already satisfied: numpy>=1.18.0 in /usr/local/lib/python3.10/dist-packages (from gym) (1.25.2)\n",
            "Requirement already satisfied: cloudpickle>=1.2.0 in /usr/local/lib/python3.10/dist-packages (from gym) (2.2.1)\n",
            "Requirement already satisfied: gym-notices>=0.0.4 in /usr/local/lib/python3.10/dist-packages (from gym) (0.0.8)\n"
          ]
        }
      ]
    },
    {
      "cell_type": "code",
      "source": [
        "import gym\n",
        "import numpy as np"
      ],
      "metadata": {
        "id": "XkEBW07XQEUe"
      },
      "execution_count": null,
      "outputs": []
    },
    {
      "cell_type": "code",
      "source": [],
      "metadata": {
        "id": "dBZJUwChR9VE",
        "outputId": "56f95d8f-1f80-4390-8b06-73f0a7a8b62f",
        "colab": {
          "base_uri": "https://localhost:8080/"
        }
      },
      "execution_count": null,
      "outputs": [
        {
          "output_type": "stream",
          "name": "stderr",
          "text": [
            "/usr/local/lib/python3.10/dist-packages/ipykernel/ipkernel.py:283: DeprecationWarning: `should_run_async` will not call `transform_cell` automatically in the future. Please pass the result to `transformed_cell` argument and any exception that happen during thetransform in `preprocessing_exc_tuple` in IPython 7.17 and above.\n",
            "  and should_run_async(code)\n"
          ]
        }
      ]
    },
    {
      "cell_type": "markdown",
      "source": [
        "epsilom greedy policy"
      ],
      "metadata": {
        "id": "ZSDPx8k9Dpni"
      }
    },
    {
      "cell_type": "code",
      "source": [
        "def eps_greedy(Q, s, eps=0.1):\n",
        "    if np.random.uniform(0,1) < eps:\n",
        "        return np. random.randint(Q.shape[1])\n",
        "    else:\n",
        "        return greedy(Q,s)"
      ],
      "metadata": {
        "id": "zPw2uKWzDtIq"
      },
      "execution_count": null,
      "outputs": []
    },
    {
      "cell_type": "code",
      "source": [],
      "metadata": {
        "id": "YPRXg4vtEILC"
      },
      "execution_count": null,
      "outputs": []
    },
    {
      "cell_type": "markdown",
      "source": [
        "greedy policy"
      ],
      "metadata": {
        "id": "K9Op3u4bE7vj"
      }
    },
    {
      "cell_type": "code",
      "source": [
        "def greedy(Q,s):\n",
        "    return np.argmax(Q[s])"
      ],
      "metadata": {
        "id": "YeXODajUE9u_"
      },
      "execution_count": 13,
      "outputs": []
    },
    {
      "cell_type": "markdown",
      "source": [
        "policy testing"
      ],
      "metadata": {
        "id": "9YUwLOaoFeoJ"
      }
    },
    {
      "cell_type": "code",
      "source": [
        "def run_episodes(env, Q, num_episodes=100,to_print=False):\n",
        "    tot_rew =[]\n",
        "    state = env.reset()\n",
        "\n",
        "    for _ in range(num_episodes):\n",
        "        done = False\n",
        "        game_rew = 0\n",
        "\n",
        "        while not done:\n",
        "            next_state, rew, done, _ = env.step(greedy(Q,state))\n",
        "\n",
        "            state = next_state\n",
        "            game_rew += rew\n",
        "            if done:\n",
        "                state = env.reset()\n",
        "                tot_rew.append(game_rew)\n",
        "\n",
        "    if to_print:\n",
        "      print('mean score : %.3f of %i games!'%(np.mean(tot_rew), num_episodes))\n",
        "\n",
        "    return np.mean(tot_rew)\n"
      ],
      "metadata": {
        "id": "yl7-2bEDFIYB"
      },
      "execution_count": 20,
      "outputs": []
    },
    {
      "cell_type": "markdown",
      "source": [
        "q learning"
      ],
      "metadata": {
        "id": "g0ttuWIhKc9k"
      }
    },
    {
      "cell_type": "markdown",
      "source": [],
      "metadata": {
        "id": "Z4XRhAg4Fdfq"
      }
    },
    {
      "cell_type": "code",
      "source": [
        "def   Q_learning(env, lr=0.01, num_episodes=10000, eps=0.3, gamma=0.95, eps_decay=0.00005)\n",
        "      nA = env.action_space.n\n",
        "      nS = env.observation_space.n\n",
        "\n",
        "      Q = np.zeros((nS, nA))\n",
        "      games_reward = []\n",
        "      test_rewards = []\n",
        "\n",
        "      for ep in range(num_episodes):\n",
        "          state = env.reset()\n",
        "          done = False\n",
        "          tot_rew = 0\n",
        "\n",
        "          if eps > 0.01:\n",
        "              eps -= eps_decay\n",
        "\n",
        "          while not done:\n",
        "              action = eps_greedy(Q, state, eps)\n",
        "\n",
        "              next_state,rew, done, _ =env.step(action)\n",
        "\n",
        "              Q[state][action] = Q[state][action] + lr*(rew =gamma*np.max(Q[next_state])-Q[state][action])\n",
        "\n",
        "              state = next_state\n",
        "              tot_rew += rew\n",
        "              if done:\n",
        "                  games_reward.append(tot_rew)\n",
        "\n",
        "              if(ep % 300) == 0:\n",
        "                 test_rew = run_episodes(env,Q, 1000)\n",
        "                 print(\"Episode:{:5d}  Eps:{:2.4f}  Rew:{:2.4f}\".format(ep, eps, test_rew ))\n",
        "                 test_rewards.append(test_rew)\n",
        "\n",
        "        return  Q\n",
        "\n",
        "\n",
        ""
      ],
      "metadata": {
        "id": "rjW8BgCVGtWS"
      },
      "execution_count": null,
      "outputs": []
    }
  ]
}